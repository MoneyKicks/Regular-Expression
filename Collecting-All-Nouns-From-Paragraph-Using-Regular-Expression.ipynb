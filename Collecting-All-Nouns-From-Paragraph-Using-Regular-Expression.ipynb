{
 "cells": [
  {
   "cell_type": "code",
   "execution_count": 37,
   "metadata": {
    "scrolled": true
   },
   "outputs": [
    {
     "name": "stdout",
     "output_type": "stream",
     "text": [
      "['People', 'pets', 'everyone', 'people', 'animals', 'love', 'others', 'need', 'instance', 'security', 'purpose', 'companionship', 'case', 'part', 'family', 'essays', 'My', 'Pet', 'Animal', '’', 'words', 'limit', 'topic', 'exam', 'class', 'tests', 'My', 'Pet', 'Animal', 'need']\n"
     ]
    }
   ],
   "source": [
    "import re\n",
    "import nltk\n",
    "from nltk.tokenize import sent_tokenize ,word_tokenize\n",
    "sample='People who own pets recommend the same to everyone. Most people pet animals for their love for them while others pet them for their need for instance for security purpose, companionship, etc. However, whatever be the case pets eventually become an integral part of the family. Here are some essays on ‘My Pet Animal’ under various words limit to help you with the topic in your exam or class tests. You can select any My Pet Animal essay according to your need.'\n",
    "sentences=sent_tokenize(sample)\n",
    "data=[]\n",
    "values=[]\n",
    "# print(sm)\n",
    "for sentence in sentences:\n",
    "    data=data+nltk.pos_tag(word_tokenize(sentence))\n",
    "\n",
    "for word in data:\n",
    "    z=re.match(r'[N][N].*',word[1])\n",
    "    if z:\n",
    "        values.append(word[0])\n",
    "print(values)"
   ]
  },
  {
   "cell_type": "code",
   "execution_count": null,
   "metadata": {},
   "outputs": [],
   "source": []
  },
  {
   "cell_type": "code",
   "execution_count": null,
   "metadata": {},
   "outputs": [],
   "source": []
  },
  {
   "cell_type": "code",
   "execution_count": null,
   "metadata": {},
   "outputs": [],
   "source": []
  }
 ],
 "metadata": {
  "kernelspec": {
   "display_name": "Python 3",
   "language": "python",
   "name": "python3"
  },
  "language_info": {
   "codemirror_mode": {
    "name": "ipython",
    "version": 3
   },
   "file_extension": ".py",
   "mimetype": "text/x-python",
   "name": "python",
   "nbconvert_exporter": "python",
   "pygments_lexer": "ipython3",
   "version": "3.6.4"
  }
 },
 "nbformat": 4,
 "nbformat_minor": 2
}
